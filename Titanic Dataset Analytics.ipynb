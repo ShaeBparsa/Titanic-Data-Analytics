{
 "cells": [
  {
   "cell_type": "markdown",
   "id": "f4e58f69",
   "metadata": {},
   "source": [
    "## Titanic Dataset Analytics and visualization\n",
    "\n"
   ]
  },
  {
   "cell_type": "markdown",
   "id": "7f02dadd",
   "metadata": {},
   "source": [
    "The analysis was conducted using a Jupyter notebook created with Python and relevant libraries, and implementing exploratory data analysis (EDA) techniques to construct a story around the survival of children on the Titanic. Jupyter markup was used to enhance the commentary in the notebook and make it more informative.\n",
    "\n",
    "The notebook presents a detailed analysis of the data, along with relevant visualizations. The focus was on using simple EDA techniques to effectively communicate the story through easily readable and comprehensible visualizations. "
   ]
  },
  {
   "cell_type": "code",
   "execution_count": null,
   "id": "ae6756f8",
   "metadata": {},
   "outputs": [],
   "source": []
  },
  {
   "cell_type": "markdown",
   "id": "47eaf14b",
   "metadata": {},
   "source": [
    "### EDA of Titanic dataset\n",
    "contains 3 parts:\n",
    "visualization, feature engineering and machine learning modeling"
   ]
  },
  {
   "cell_type": "code",
   "execution_count": null,
   "id": "cf8c4a83",
   "metadata": {},
   "outputs": [],
   "source": [
    "import pandas as pd\n",
    "import seaborn as sns\n",
    "import matplotlib.pyplot as plt\n",
    "import numpy as np\n",
    "from sklearn import preprocessing\n",
    "# Importing Classifier Modules\n",
    "from sklearn.tree import DecisionTreeClassifier\n",
    "from sklearn import tree\n",
    "from sklearn.ensemble import RandomForestClassifier\n",
    "from sklearn.metrics import accuracy_score\n",
    "from sklearn.metrics import confusion_matrix\n",
    "from sklearn.preprocessing import StandardScaler\n",
    "from sklearn.preprocessing import MinMaxScaler\n",
    "from sklearn.model_selection import cross_val_score\n",
    "import itertools"
   ]
  },
  {
   "cell_type": "markdown",
   "id": "f9305f93",
   "metadata": {},
   "source": [
    "### Importing data"
   ]
  },
  {
   "cell_type": "code",
   "execution_count": 2,
   "id": "0c69bc4d",
   "metadata": {},
   "outputs": [],
   "source": [
    "#import train, test, and gender_submission datasets\n",
    "train= pd.read_csv('train.csv')\n",
    "test= pd.read_csv('test.csv')\n",
    "test_y = pd.read_csv('gender_submission.csv')\n"
   ]
  },
  {
   "cell_type": "code",
   "execution_count": 3,
   "id": "738cb233",
   "metadata": {},
   "outputs": [
    {
     "name": "stdout",
     "output_type": "stream",
     "text": [
      "12  train columns: \n",
      " Index(['PassengerId', 'Survived', 'Pclass', 'Name', 'Sex', 'Age', 'SibSp',\n",
      "       'Parch', 'Ticket', 'Fare', 'Cabin', 'Embarked'],\n",
      "      dtype='object')\n",
      "11  test columns: \n",
      " Index(['PassengerId', 'Pclass', 'Name', 'Sex', 'Age', 'SibSp', 'Parch',\n",
      "       'Ticket', 'Fare', 'Cabin', 'Embarked'],\n",
      "      dtype='object')\n",
      "2  test columns: \n",
      " Index(['PassengerId', 'Survived'], dtype='object')\n"
     ]
    }
   ],
   "source": [
    "#printing number and name of datasets' columns\n",
    "print(len(train.columns),' train columns: \\n', train.columns)\n",
    "print(len(test.columns),' test columns: \\n',  test.columns)\n",
    "print(len(test_y.columns),' test columns: \\n',  test_y.columns)"
   ]
  },
  {
   "cell_type": "code",
   "execution_count": 4,
   "id": "2f8c56f1",
   "metadata": {},
   "outputs": [
    {
     "data": {
      "text/plain": [
       "PassengerId      int64\n",
       "Survived         int64\n",
       "Pclass           int64\n",
       "Name            object\n",
       "Sex             object\n",
       "Age            float64\n",
       "SibSp            int64\n",
       "Parch            int64\n",
       "Ticket          object\n",
       "Fare           float64\n",
       "Cabin           object\n",
       "Embarked        object\n",
       "dtype: object"
      ]
     },
     "execution_count": 4,
     "metadata": {},
     "output_type": "execute_result"
    }
   ],
   "source": [
    "#check type of features\n",
    "train.dtypes"
   ]
  },
  {
   "cell_type": "code",
   "execution_count": 5,
   "id": "85d42e2f",
   "metadata": {},
   "outputs": [
    {
     "data": {
      "text/html": [
       "<div>\n",
       "<style scoped>\n",
       "    .dataframe tbody tr th:only-of-type {\n",
       "        vertical-align: middle;\n",
       "    }\n",
       "\n",
       "    .dataframe tbody tr th {\n",
       "        vertical-align: top;\n",
       "    }\n",
       "\n",
       "    .dataframe thead th {\n",
       "        text-align: right;\n",
       "    }\n",
       "</style>\n",
       "<table border=\"1\" class=\"dataframe\">\n",
       "  <thead>\n",
       "    <tr style=\"text-align: right;\">\n",
       "      <th></th>\n",
       "      <th>PassengerId</th>\n",
       "      <th>Survived</th>\n",
       "      <th>Pclass</th>\n",
       "      <th>Name</th>\n",
       "      <th>Sex</th>\n",
       "      <th>Age</th>\n",
       "      <th>SibSp</th>\n",
       "      <th>Parch</th>\n",
       "      <th>Ticket</th>\n",
       "      <th>Fare</th>\n",
       "      <th>Cabin</th>\n",
       "      <th>Embarked</th>\n",
       "    </tr>\n",
       "  </thead>\n",
       "  <tbody>\n",
       "  </tbody>\n",
       "</table>\n",
       "</div>"
      ],
      "text/plain": [
       "Empty DataFrame\n",
       "Columns: [PassengerId, Survived, Pclass, Name, Sex, Age, SibSp, Parch, Ticket, Fare, Cabin, Embarked]\n",
       "Index: []"
      ]
     },
     "execution_count": 5,
     "metadata": {},
     "output_type": "execute_result"
    }
   ],
   "source": [
    "#Check if dataframe has duplicate\n",
    "duplicate = train[train.duplicated()]\n",
    "duplicate"
   ]
  },
  {
   "cell_type": "markdown",
   "id": "c0fcc868",
   "metadata": {},
   "source": [
    "### Filter Data set by Children"
   ]
  },
  {
   "cell_type": "code",
   "execution_count": 6,
   "id": "cf3ee15c",
   "metadata": {},
   "outputs": [
    {
     "data": {
      "text/plain": [
       "(139, 12)"
      ]
     },
     "execution_count": 6,
     "metadata": {},
     "output_type": "execute_result"
    }
   ],
   "source": [
    "trainCh = train[(train.Age <= 18)]\n",
    "trainCh.shape"
   ]
  },
  {
   "cell_type": "code",
   "execution_count": 7,
   "id": "aea2988f",
   "metadata": {},
   "outputs": [
    {
     "name": "stdout",
     "output_type": "stream",
     "text": [
      "Total number of null value in each column with 139 number of rows:\n",
      "PassengerId      0\n",
      "Survived         0\n",
      "Pclass           0\n",
      "Name             0\n",
      "Sex              0\n",
      "Age              0\n",
      "SibSp            0\n",
      "Parch            0\n",
      "Ticket           0\n",
      "Fare             0\n",
      "Cabin          116\n",
      "Embarked         0\n",
      "dtype: int64 \n",
      "\n",
      "Missing values percentage:\n",
      " [('Cabin', 83)]\n"
     ]
    }
   ],
   "source": [
    "print('Total number of null value in each column with %d number of rows:'%trainCh.shape[0])\n",
    "print(trainCh.isnull().sum(),'\\n')\n",
    "print('Missing values percentage:\\n',[(c,round(i*100/trainCh.shape[0])) for i,c in zip(trainCh.isnull().sum(),trainCh.columns) if i!= 0])"
   ]
  },
  {
   "cell_type": "code",
   "execution_count": 8,
   "id": "a2209fb5",
   "metadata": {},
   "outputs": [
    {
     "data": {
      "text/html": [
       "<div>\n",
       "<style scoped>\n",
       "    .dataframe tbody tr th:only-of-type {\n",
       "        vertical-align: middle;\n",
       "    }\n",
       "\n",
       "    .dataframe tbody tr th {\n",
       "        vertical-align: top;\n",
       "    }\n",
       "\n",
       "    .dataframe thead th {\n",
       "        text-align: right;\n",
       "    }\n",
       "</style>\n",
       "<table border=\"1\" class=\"dataframe\">\n",
       "  <thead>\n",
       "    <tr style=\"text-align: right;\">\n",
       "      <th></th>\n",
       "      <th>PassengerId</th>\n",
       "      <th>Survived</th>\n",
       "      <th>Pclass</th>\n",
       "      <th>Age</th>\n",
       "      <th>SibSp</th>\n",
       "      <th>Parch</th>\n",
       "      <th>Fare</th>\n",
       "    </tr>\n",
       "  </thead>\n",
       "  <tbody>\n",
       "    <tr>\n",
       "      <th>count</th>\n",
       "      <td>139.000000</td>\n",
       "      <td>139.000000</td>\n",
       "      <td>139.000000</td>\n",
       "      <td>139.000000</td>\n",
       "      <td>139.000000</td>\n",
       "      <td>139.000000</td>\n",
       "      <td>139.000000</td>\n",
       "    </tr>\n",
       "    <tr>\n",
       "      <th>mean</th>\n",
       "      <td>445.496403</td>\n",
       "      <td>0.503597</td>\n",
       "      <td>2.561151</td>\n",
       "      <td>10.717050</td>\n",
       "      <td>1.258993</td>\n",
       "      <td>0.935252</td>\n",
       "      <td>32.500721</td>\n",
       "    </tr>\n",
       "    <tr>\n",
       "      <th>std</th>\n",
       "      <td>278.724719</td>\n",
       "      <td>0.501795</td>\n",
       "      <td>0.692769</td>\n",
       "      <td>6.465828</td>\n",
       "      <td>1.547968</td>\n",
       "      <td>0.818346</td>\n",
       "      <td>40.759691</td>\n",
       "    </tr>\n",
       "    <tr>\n",
       "      <th>min</th>\n",
       "      <td>8.000000</td>\n",
       "      <td>0.000000</td>\n",
       "      <td>1.000000</td>\n",
       "      <td>0.420000</td>\n",
       "      <td>0.000000</td>\n",
       "      <td>0.000000</td>\n",
       "      <td>6.495800</td>\n",
       "    </tr>\n",
       "    <tr>\n",
       "      <th>25%</th>\n",
       "      <td>183.500000</td>\n",
       "      <td>0.000000</td>\n",
       "      <td>2.000000</td>\n",
       "      <td>4.000000</td>\n",
       "      <td>0.000000</td>\n",
       "      <td>0.000000</td>\n",
       "      <td>10.816650</td>\n",
       "    </tr>\n",
       "    <tr>\n",
       "      <th>50%</th>\n",
       "      <td>436.000000</td>\n",
       "      <td>1.000000</td>\n",
       "      <td>3.000000</td>\n",
       "      <td>13.000000</td>\n",
       "      <td>1.000000</td>\n",
       "      <td>1.000000</td>\n",
       "      <td>20.250000</td>\n",
       "    </tr>\n",
       "    <tr>\n",
       "      <th>75%</th>\n",
       "      <td>712.000000</td>\n",
       "      <td>1.000000</td>\n",
       "      <td>3.000000</td>\n",
       "      <td>17.000000</td>\n",
       "      <td>2.000000</td>\n",
       "      <td>2.000000</td>\n",
       "      <td>32.193750</td>\n",
       "    </tr>\n",
       "    <tr>\n",
       "      <th>max</th>\n",
       "      <td>876.000000</td>\n",
       "      <td>1.000000</td>\n",
       "      <td>3.000000</td>\n",
       "      <td>18.000000</td>\n",
       "      <td>5.000000</td>\n",
       "      <td>3.000000</td>\n",
       "      <td>262.375000</td>\n",
       "    </tr>\n",
       "  </tbody>\n",
       "</table>\n",
       "</div>"
      ],
      "text/plain": [
       "       PassengerId    Survived      Pclass         Age       SibSp  \\\n",
       "count   139.000000  139.000000  139.000000  139.000000  139.000000   \n",
       "mean    445.496403    0.503597    2.561151   10.717050    1.258993   \n",
       "std     278.724719    0.501795    0.692769    6.465828    1.547968   \n",
       "min       8.000000    0.000000    1.000000    0.420000    0.000000   \n",
       "25%     183.500000    0.000000    2.000000    4.000000    0.000000   \n",
       "50%     436.000000    1.000000    3.000000   13.000000    1.000000   \n",
       "75%     712.000000    1.000000    3.000000   17.000000    2.000000   \n",
       "max     876.000000    1.000000    3.000000   18.000000    5.000000   \n",
       "\n",
       "            Parch        Fare  \n",
       "count  139.000000  139.000000  \n",
       "mean     0.935252   32.500721  \n",
       "std      0.818346   40.759691  \n",
       "min      0.000000    6.495800  \n",
       "25%      0.000000   10.816650  \n",
       "50%      1.000000   20.250000  \n",
       "75%      2.000000   32.193750  \n",
       "max      3.000000  262.375000  "
      ]
     },
     "execution_count": 8,
     "metadata": {},
     "output_type": "execute_result"
    }
   ],
   "source": [
    "#data distribution\n",
    "trainCh.describe()"
   ]
  },
  {
   "cell_type": "code",
   "execution_count": 11,
   "id": "c61aa792",
   "metadata": {
    "scrolled": true
   },
   "outputs": [
    {
     "data": {
      "text/plain": [
       "array([[<AxesSubplot:title={'center':'Age'}>,\n",
       "        <AxesSubplot:title={'center':'Fare'}>],\n",
       "       [<AxesSubplot:title={'center':'Parch'}>,\n",
       "        <AxesSubplot:title={'center':'Pclass'}>],\n",
       "       [<AxesSubplot:title={'center':'SibSp'}>,\n",
       "        <AxesSubplot:title={'center':'Survived'}>]], dtype=object)"
      ]
     },
     "execution_count": 11,
     "metadata": {},
     "output_type": "execute_result"
    },
    {
     "data": {
      "image/png": "[encoded data removed]",
      "text/plain": [
       "<Figure size 1080x576 with 6 Axes>"
      ]
     },
     "metadata": {
      "needs_background": "light"
     },
     "output_type": "display_data"
    }
   ],
   "source": [
    "#deversity of numeric features\n",
    "trainCh[['Age','SibSp','Parch','Fare','Survived','Pclass']].hist(figsize=(15,8))"
   ]
  },
  {
   "cell_type": "code",
   "execution_count": null,
   "id": "a26a9dd4",
   "metadata": {},
   "outputs": [],
   "source": []
  },
  {
   "cell_type": "markdown",
   "id": "91bc616d",
   "metadata": {},
   "source": [
    "### Functions"
   ]
  },
  {
   "cell_type": "code",
   "execution_count": 12,
   "id": "fc689e2e",
   "metadata": {},
   "outputs": [],
   "source": [
    "# printing unique values and number of null values and unique values of\n",
    "# corresponding column\n",
    "def null_unique_values(col):\n",
    "    print('Number of Null values in %s column:' %(col), trainCh[col].isnull().sum())\n",
    "    print('Number of Unique values in %s column:'%(col), trainCh[col].unique().size)\n",
    "    print('Number of Unique values in %s column:'%(col), trainCh[col].unique())"
   ]
  },
  {
   "cell_type": "markdown",
   "id": "afad3fd9",
   "metadata": {},
   "source": [
    "## Analyzing each Feature"
   ]
  },
  {
   "cell_type": "code",
   "execution_count": 101,
   "id": "f950b26d",
   "metadata": {},
   "outputs": [
    {
     "data": {
      "text/html": [
       "<div>\n",
       "<style scoped>\n",
       "    .dataframe tbody tr th:only-of-type {\n",
       "        vertical-align: middle;\n",
       "    }\n",
       "\n",
       "    .dataframe tbody tr th {\n",
       "        vertical-align: top;\n",
       "    }\n",
       "\n",
       "    .dataframe thead th {\n",
       "        text-align: right;\n",
       "    }\n",
       "</style>\n",
       "<table border=\"1\" class=\"dataframe\">\n",
       "  <thead>\n",
       "    <tr style=\"text-align: right;\">\n",
       "      <th></th>\n",
       "      <th>Age</th>\n",
       "      <th>Fare</th>\n",
       "      <th>Parch</th>\n",
       "      <th>SibSp</th>\n",
       "    </tr>\n",
       "    <tr>\n",
       "      <th>Survived</th>\n",
       "      <th></th>\n",
       "      <th></th>\n",
       "      <th></th>\n",
       "      <th></th>\n",
       "    </tr>\n",
       "  </thead>\n",
       "  <tbody>\n",
       "    <tr>\n",
       "      <th>0</th>\n",
       "      <td>12.268116</td>\n",
       "      <td>25.377055</td>\n",
       "      <td>0.855072</td>\n",
       "      <td>1.811594</td>\n",
       "    </tr>\n",
       "    <tr>\n",
       "      <th>1</th>\n",
       "      <td>9.188143</td>\n",
       "      <td>39.522620</td>\n",
       "      <td>1.014286</td>\n",
       "      <td>0.714286</td>\n",
       "    </tr>\n",
       "  </tbody>\n",
       "</table>\n",
       "</div>"
      ],
      "text/plain": [
       "                Age       Fare     Parch     SibSp\n",
       "Survived                                          \n",
       "0         12.268116  25.377055  0.855072  1.811594\n",
       "1          9.188143  39.522620  1.014286  0.714286"
      ]
     },
     "execution_count": 101,
     "metadata": {},
     "output_type": "execute_result"
    },
    {
     "data": {
      "image/png": "[encoded data removed]",
      "text/plain": [
       "<Figure size 432x288 with 2 Axes>"
      ]
     },
     "metadata": {
      "needs_background": "light"
     },
     "output_type": "display_data"
    }
   ],
   "source": [
    "#finding strong corrolation amon features\n",
    "sns.heatmap(trainCh.corr())\n",
    "pd.pivot_table(trainCh, index = 'Survived', values = ['Age','SibSp','Parch','Fare'])"
   ]
  },
  {
   "cell_type": "markdown",
   "id": "4f5f9d0a",
   "metadata": {},
   "source": [
    "### Survived"
   ]
  },
  {
   "cell_type": "code",
   "execution_count": 448,
   "id": "fc8ca103",
   "metadata": {},
   "outputs": [
    {
     "name": "stdout",
     "output_type": "stream",
     "text": [
      "1    70\n",
      "0    69\n",
      "Name: Survived, dtype: int64\n",
      "1    50.359712\n",
      "0    49.640288\n",
      "Name: Survived, dtype: float64\n"
     ]
    },
    {
     "data": {
      "image/png": "[encoded data removed]",
      "text/plain": [
       "<Figure size 720x144 with 1 Axes>"
      ]
     },
     "metadata": {
      "needs_background": "light"
     },
     "output_type": "display_data"
    }
   ],
   "source": [
    "# How many people survived?\n",
    "fig = plt.figure(figsize=(10,2))\n",
    "sns.countplot(y='Survived', data=trainCh, palette =\"Set1\");\n",
    "print(trainCh.Survived.value_counts())\n",
    "print(trainCh.Survived.value_counts()*100/trainCh.shape[0])"
   ]
  },
  {
   "cell_type": "markdown",
   "id": "02a926b8",
   "metadata": {},
   "source": [
    "### Age"
   ]
  },
  {
   "cell_type": "code",
   "execution_count": 14,
   "id": "49a0f813",
   "metadata": {},
   "outputs": [
    {
     "name": "stdout",
     "output_type": "stream",
     "text": [
      "Number of Null values in Age column: 0\n",
      "Number of Unique values in Age column: 24\n",
      "Number of Unique values in Age column: [ 2.   14.    4.   15.    8.   18.    3.    7.    5.   11.   17.   16.\n",
      "  0.83 14.5  12.    9.    1.    0.92 10.   13.    0.75  6.    0.67  0.42]\n"
     ]
    }
   ],
   "source": [
    "# printing unique values and number of null values and unique values of Age\n",
    "null_unique_values('Age')"
   ]
  },
  {
   "cell_type": "code",
   "execution_count": 15,
   "id": "11d1563a",
   "metadata": {},
   "outputs": [
    {
     "data": {
      "image/png": "[encoded data removed]",
      "text/plain": [
       "<Figure size 432x288 with 1 Axes>"
      ]
     },
     "metadata": {
      "needs_background": "light"
     },
     "output_type": "display_data"
    }
   ],
   "source": [
    "g =sns.histplot(data=trainCh, y='Age', shrink=.5, multiple=\"dodge\")"
   ]
  },
  {
   "cell_type": "code",
   "execution_count": 16,
   "id": "dc8d2ea2",
   "metadata": {},
   "outputs": [
    {
     "data": {
      "image/png": "[encoded data removed]",
      "text/plain": [
       "<Figure size 432x288 with 1 Axes>"
      ]
     },
     "metadata": {
      "needs_background": "light"
     },
     "output_type": "display_data"
    }
   ],
   "source": [
    "\n",
    "g =sns.histplot(data=trainCh, x='Age', hue='Survived', shrink=.5, multiple=\"dodge\")\n",
    "leg = g.axes.get_legend()\n",
    "new_title = 'Survived'\n",
    "leg.set_title(new_title)\n",
    "new_labels = ['No', 'Yes']\n",
    "for t, l in zip(leg.texts, new_labels):\n",
    "    t.set_text(l)"
   ]
  },
  {
   "cell_type": "markdown",
   "id": "1d64a999",
   "metadata": {},
   "source": [
    "### Sex"
   ]
  },
  {
   "cell_type": "code",
   "execution_count": 17,
   "id": "26b4f250",
   "metadata": {},
   "outputs": [
    {
     "name": "stdout",
     "output_type": "stream",
     "text": [
      "Number of Null values in Sex column: 0\n",
      "Number of Unique values in Sex column: 2\n",
      "Number of Unique values in Sex column: ['male' 'female']\n"
     ]
    }
   ],
   "source": [
    "# printing unique values and number of null values and unique values of Sex\n",
    "null_unique_values('Sex')"
   ]
  },
  {
   "cell_type": "code",
   "execution_count": 18,
   "id": "066e90b5",
   "metadata": {},
   "outputs": [
    {
     "data": {
      "text/plain": [
       "<AxesSubplot:xlabel='Sex', ylabel='Age'>"
      ]
     },
     "execution_count": 18,
     "metadata": {},
     "output_type": "execute_result"
    },
    {
     "data": {
      "image/png": "[encoded data removed]",
      "text/plain": [
       "<Figure size 720x576 with 2 Axes>"
      ]
     },
     "metadata": {
      "needs_background": "light"
     },
     "output_type": "display_data"
    }
   ],
   "source": [
    "fig= plt.figure(figsize=(10,8))\n",
    "axs=[fig.add_subplot(2,2,i) for i in range(1,3)]\n",
    "sns.countplot(ax = axs[0],x ='Sex', data = trainCh,color=\"salmon\", saturation=.3)\n",
    "sns.histplot(ax = axs[0],data=trainCh, x='Sex', hue='Survived', shrink=0.5, multiple=\"dodge\", palette = \"Set2\")\n",
    "sns.boxplot(ax = axs[1],data= trainCh, x= 'Sex',y='Age')"
   ]
  },
  {
   "cell_type": "markdown",
   "id": "d20f43a6",
   "metadata": {},
   "source": [
    "### SibSp, Parch\n",
    "### and adding a new colum: FamilySize\n"
   ]
  },
  {
   "cell_type": "code",
   "execution_count": 20,
   "id": "07d597ba",
   "metadata": {},
   "outputs": [
    {
     "name": "stdout",
     "output_type": "stream",
     "text": [
      "Number of Null values in SibSp column: 0\n",
      "Number of Unique values in SibSp column: 6\n",
      "Number of Unique values in SibSp column: [3 1 0 4 2 5]\n",
      "Number of Null values in Parch column: 0\n",
      "Number of Unique values in Parch column: 4\n",
      "Number of Unique values in Parch column: [1 0 2 3]\n"
     ]
    }
   ],
   "source": [
    "# printing unique values and number of null values and unique values of SibSp\n",
    "# parch: number of parents/children aboard the Titanic\n",
    "# sibsp: number of siblings/spouses aboard the Titanic\n",
    "null_unique_values('SibSp')\n",
    "null_unique_values('Parch')"
   ]
  },
  {
   "cell_type": "code",
   "execution_count": 21,
   "id": "7f87806a",
   "metadata": {},
   "outputs": [
    {
     "name": "stdout",
     "output_type": "stream",
     "text": [
      "Number of Null values in FamilySize column: 0\n",
      "Number of Unique values in FamilySize column: 8\n",
      "Number of Unique values in FamilySize column: [4 1 2 0 5 3 7 6]\n"
     ]
    }
   ],
   "source": [
    "#feature engineering:\n",
    "# assign a column Family Size by adding numbers of Sibiling/Spouse and Parent/Childdren\n",
    "trainCh = trainCh.assign(FamilySize = trainCh.SibSp+trainCh.Parch)\n",
    "null_unique_values('FamilySize')"
   ]
  },
  {
   "cell_type": "code",
   "execution_count": 22,
   "id": "70cf61bc",
   "metadata": {},
   "outputs": [
    {
     "data": {
      "text/plain": [
       "<AxesSubplot:xlabel='FamilySize', ylabel='count'>"
      ]
     },
     "execution_count": 22,
     "metadata": {},
     "output_type": "execute_result"
    },
    {
     "data": {
      "image/png": "[encoded data removed]",
      "text/plain": [
       "<Figure size 864x720 with 3 Axes>"
      ]
     },
     "metadata": {
      "needs_background": "light"
     },
     "output_type": "display_data"
    }
   ],
   "source": [
    "fig= plt.figure(figsize=(12,10))\n",
    "axs=[fig.add_subplot(3,3,i) for i in range(1,4)]\n",
    "sns.countplot(ax = axs[0],data=trainCh, x='SibSp',hue='Survived')\n",
    "sns.countplot(ax = axs[1],data=trainCh, hue='Survived', x='Parch')\n",
    "sns.countplot(ax = axs[2],data=trainCh, x='FamilySize', hue='Survived', palette = \"Set2\")"
   ]
  },
  {
   "cell_type": "code",
   "execution_count": 23,
   "id": "b59d3782",
   "metadata": {},
   "outputs": [
    {
     "data": {
      "text/plain": [
       "<AxesSubplot:xlabel='count', ylabel='FamilySize'>"
      ]
     },
     "execution_count": 23,
     "metadata": {},
     "output_type": "execute_result"
    },
    {
     "data": {
      "image/png": "[encoded data removed]",
      "text/plain": [
       "<Figure size 432x288 with 1 Axes>"
      ]
     },
     "metadata": {
      "needs_background": "light"
     },
     "output_type": "display_data"
    }
   ],
   "source": [
    "sns.countplot(data=trainCh, y='FamilySize', hue='Survived', palette = \"Set2\")"
   ]
  },
  {
   "cell_type": "code",
   "execution_count": 24,
   "id": "5abed183",
   "metadata": {},
   "outputs": [
    {
     "data": {
      "text/plain": [
       "array([[<AxesSubplot:title={'center':'FamilySize'}>]], dtype=object)"
      ]
     },
     "execution_count": 24,
     "metadata": {},
     "output_type": "execute_result"
    },
    {
     "data": {
      "image/png": "[encoded data removed]",
      "text/plain": [
       "<Figure size 216x216 with 1 Axes>"
      ]
     },
     "metadata": {
      "needs_background": "light"
     },
     "output_type": "display_data"
    }
   ],
   "source": [
    "trainCh[['FamilySize']].hist(figsize=(3,3))"
   ]
  },
  {
   "cell_type": "markdown",
   "id": "f1a41626",
   "metadata": {},
   "source": [
    " ###### Embarked is the name of ports and Pclass for class of the ticket\n",
    "C = Cherbourg, Q = Queenstown, S = Southampton"
   ]
  },
  {
   "cell_type": "code",
   "execution_count": 25,
   "id": "94d7fda9",
   "metadata": {},
   "outputs": [
    {
     "name": "stdout",
     "output_type": "stream",
     "text": [
      "Number of Null values in Embarked column: 0\n",
      "Number of Unique values in Embarked column: 3\n",
      "Number of Unique values in Embarked column: ['S' 'C' 'Q']\n"
     ]
    }
   ],
   "source": [
    "# printing unique values and number of null values and unique values of Embarked\n",
    "null_unique_values('Embarked')"
   ]
  },
  {
   "cell_type": "code",
   "execution_count": 26,
   "id": "afbc5b5a",
   "metadata": {},
   "outputs": [
    {
     "data": {
      "text/plain": [
       "<AxesSubplot:xlabel='Fare', ylabel='Count'>"
      ]
     },
     "execution_count": 26,
     "metadata": {},
     "output_type": "execute_result"
    },
    {
     "data": {
      "image/png": "[encoded data removed]",
      "text/plain": [
       "<Figure size 1080x1080 with 3 Axes>"
      ]
     },
     "metadata": {
      "needs_background": "light"
     },
     "output_type": "display_data"
    }
   ],
   "source": [
    "fig= plt.figure(figsize=(15,15))\n",
    "axs=[fig.add_subplot(3,3,i) for i in range(1,4)]\n",
    "sns.countplot(ax = axs[0],x='Embarked', data=trainCh, saturation=0.3)\n",
    "sns.histplot(ax = axs[0],data=trainCh, x='Embarked', hue='Survived', shrink=.5, multiple=\"dodge\")\n",
    "sns.histplot(ax = axs[1], data=trainCh, x='Pclass', hue='Survived', shrink=.5, multiple=\"dodge\")\n",
    "sns.histplot(ax = axs[2], data=trainCh, x='Fare', hue='Survived' )\n"
   ]
  },
  {
   "cell_type": "code",
   "execution_count": 446,
   "id": "7a721a9f",
   "metadata": {},
   "outputs": [
    {
     "data": {
      "text/plain": [
       "<AxesSubplot:xlabel='Pclass', ylabel='count'>"
      ]
     },
     "execution_count": 446,
     "metadata": {},
     "output_type": "execute_result"
    },
    {
     "data": {
      "image/png": "[encoded data removed]",
      "text/plain": [
       "<Figure size 432x288 with 1 Axes>"
      ]
     },
     "metadata": {
      "needs_background": "light"
     },
     "output_type": "display_data"
    }
   ],
   "source": [
    "sns.countplot( data=trainCh, x='Pclass', hue='Survived', palette =\"Set1\")"
   ]
  },
  {
   "cell_type": "markdown",
   "id": "286358f1",
   "metadata": {},
   "source": [
    "### Ticket"
   ]
  },
  {
   "cell_type": "code",
   "execution_count": 148,
   "id": "d5d7de6e",
   "metadata": {},
   "outputs": [
    {
     "data": {
      "text/plain": [
       "array(['349909', '237736', 'PP 9549', '350406', '382652', '330923',\n",
       "       '345764', '2651', 'SC/Paris 2123', '349237', '3101295',\n",
       "       'C.A. 34651', 'CA 2144', '347088', '3101281', '248738',\n",
       "       'SO/C 14885', 'W./C. 6608', '2665', '2627', '347082', '7534',\n",
       "       '231945', '35851', '315093', '363291', '347742', '350404',\n",
       "       '347077', '230136', '315153', '230080', 'A/5 3540', '347054',\n",
       "       '367231', 'SOTON/OQ 392089', '236171', 'C.A. 31921', '345778',\n",
       "       '113781', 'PC 17758', 'PC 17608', '111361', 'C.A. 37671', '2695',\n",
       "       '3101267', '2653', 'S.O.C. 14879', 'SC 1748', '29106', '250652',\n",
       "       '345773', '370129', 'STON/O 2. 3101274', '113760', '33638',\n",
       "       '250644', '2666', '3101298', '315086', '110152', '26360', '2690',\n",
       "       'F.C.C. 13529', 'C.A. 33112', '17421', 'A/4. 20589', '110413',\n",
       "       '231919', '365226', '349912', '4138', '350036', '24160', '349256',\n",
       "       'PC 17757', '2691', '248727', '350048', '2699', 'C.A. 2673',\n",
       "       '29103', '392096', '250649', '29108', '347074', '347078', '364516',\n",
       "       '2687', '17474', '3101265', 'C.A. 2315', '239865', '2625',\n",
       "       '347087', 'S.C./PARIS 2079', '2659', '2223', 'S.O./P.P. 3',\n",
       "       '315090', '2678', 'PC 17592', '392091', '2667'], dtype=object)"
      ]
     },
     "execution_count": 148,
     "metadata": {},
     "output_type": "execute_result"
    }
   ],
   "source": [
    "#print unique value of ticket\n",
    "trainCh.Ticket.unique()"
   ]
  },
  {
   "cell_type": "code",
   "execution_count": 199,
   "id": "3bdaae03",
   "metadata": {},
   "outputs": [
    {
     "name": "stderr",
     "output_type": "stream",
     "text": [
      "C:\\Users\\shbpa\\anaconda3\\envs\\AI_comp472\\lib\\site-packages\\seaborn\\_decorators.py:43: FutureWarning: Pass the following variables as keyword args: x, y. From version 0.12, the only valid positional argument will be `data`, and passing other arguments without an explicit keyword will result in an error or misinterpretation.\n",
      "  FutureWarning\n"
     ]
    },
    {
     "data": {
      "image/png": "[encoded data removed]",
      "text/plain": [
       "<Figure size 432x288 with 1 Axes>"
      ]
     },
     "metadata": {
      "needs_background": "light"
     },
     "output_type": "display_data"
    }
   ],
   "source": [
    "# barplot based on ticket value\n",
    "sns.barplot(trainCh['Ticket'].value_counts().index,trainCh['Ticket'].value_counts()).set_title('Ticket')\n",
    "plt.show()"
   ]
  },
  {
   "cell_type": "code",
   "execution_count": 200,
   "id": "f33f5d4e",
   "metadata": {},
   "outputs": [
    {
     "data": {
      "image/png": "[encoded data removed]",
      "text/plain": [
       "<Figure size 432x288 with 1 Axes>"
      ]
     },
     "metadata": {
      "needs_background": "light"
     },
     "output_type": "display_data"
    }
   ],
   "source": [
    "\n",
    "sns.histplot(x=trainCh['Ticket'], hue='Survived', data=trainCh).set_title('Survival based on Ticket')\n",
    "plt.show()"
   ]
  },
  {
   "cell_type": "markdown",
   "id": "f7e1ba35",
   "metadata": {},
   "source": [
    "### Name"
   ]
  },
  {
   "cell_type": "code",
   "execution_count": 201,
   "id": "0903733d",
   "metadata": {},
   "outputs": [
    {
     "data": {
      "text/plain": [
       "7            Palsson, Master. Gosta Leonard\n",
       "9       Nasser, Mrs. Nicholas (Adele Achem)\n",
       "10          Sandstrom, Miss. Marguerite Rut\n",
       "14     Vestrom, Miss. Hulda Amanda Adolfina\n",
       "16                     Rice, Master. Eugene\n",
       "                       ...                 \n",
       "852                 Boulos, Miss. Nourelain\n",
       "853               Lines, Miss. Mary Conover\n",
       "855              Aks, Mrs. Sam (Leah Rosen)\n",
       "869         Johnson, Master. Harold Theodor\n",
       "875        Najib, Miss. Adele Kiamie \"Jane\"\n",
       "Name: Name, Length: 139, dtype: object"
      ]
     },
     "execution_count": 201,
     "metadata": {},
     "output_type": "execute_result"
    }
   ],
   "source": [
    "#print Name column\n",
    "#FirstName,Title,LastName\n",
    "trainCh.Name"
   ]
  },
  {
   "cell_type": "code",
   "execution_count": 209,
   "id": "a7bb0733",
   "metadata": {},
   "outputs": [],
   "source": []
  },
  {
   "cell_type": "markdown",
   "id": "bf2f96b4",
   "metadata": {},
   "source": [
    "### "
   ]
  },
  {
   "cell_type": "markdown",
   "id": "c2507c96",
   "metadata": {},
   "source": [
    "### Test data\n"
   ]
  },
  {
   "cell_type": "code",
   "execution_count": 339,
   "id": "1af3c456",
   "metadata": {},
   "outputs": [],
   "source": [
    "test= pd.read_csv('test.csv')\n",
    "test_y = pd.read_csv('gender_submission.csv')\n",
    "#merge to data set\n",
    "test=test.assign(Survived=test_y.Survived)"
   ]
  },
  {
   "cell_type": "code",
   "execution_count": 340,
   "id": "189c9cb3",
   "metadata": {},
   "outputs": [],
   "source": [
    "test['numeric_ticket'] = test.Ticket.apply(lambda x: 1 if x.isnumeric() else 0)\n",
    "test['ticket_letters'] = test.Ticket.apply(lambda x: ''.join(x.split(' ')[:-1])\n",
    "                                            .replace('.','').replace('/','')\n",
    "                                            .lower() if len(x.split(' ')[:-1]) >0 else '0')"
   ]
  },
  {
   "cell_type": "code",
   "execution_count": 341,
   "id": "3613a20e",
   "metadata": {},
   "outputs": [],
   "source": [
    "test[['FName','TLName']] = test['Name'].str.split(\",\",1,expand=True,)\n",
    "test[['Title','LName']] = test['TLName'].str.split(\".\",1,expand=True,)\n",
    "test=test.apply(lambda x: x.str.strip() if x.dtype == \"object\" else x)\n"
   ]
  },
  {
   "cell_type": "code",
   "execution_count": 342,
   "id": "660315b8",
   "metadata": {},
   "outputs": [],
   "source": [
    "col = ['Pclass', 'Sex', 'Age', 'SibSp','Parch', 'Fare', 'Embarked','numeric_ticket','ticket_letters','Title']"
   ]
  },
  {
   "cell_type": "code",
   "execution_count": 343,
   "id": "1f23d731",
   "metadata": {},
   "outputs": [],
   "source": [
    "#filtering child datda and adding FamilySize to X_test\n",
    "X_test= test[test.Age<=18][col]\n",
    "y_test= test[test.Age<=18]['Survived']\n",
    "X_test = X_test.assign(FamilySize = X_test.SibSp + X_test.Parch)\n",
    "\n"
   ]
  },
  {
   "cell_type": "code",
   "execution_count": 346,
   "id": "f1235347",
   "metadata": {},
   "outputs": [
    {
     "data": {
      "text/plain": [
       "array(['0', 'c', 'pc', 'a4', 'pp', 'ca', 'wc', 'a5', 'soc', 'sotonoq',\n",
       "       'scparis', 'aq3'], dtype=object)"
      ]
     },
     "execution_count": 346,
     "metadata": {},
     "output_type": "execute_result"
    }
   ],
   "source": [
    "X_test.ticket_letters.unique()"
   ]
  },
  {
   "cell_type": "code",
   "execution_count": 344,
   "id": "0b109329",
   "metadata": {},
   "outputs": [],
   "source": [
    "#data engineering:\n",
    "#replacng categorical values to numerical\n",
    "X_test.Embarked=X_test.Embarked.map( {'S': 0, 'C': 1, 'Q': 2} ).astype(int)"
   ]
  },
  {
   "cell_type": "code",
   "execution_count": 348,
   "id": "8d9ccbc1",
   "metadata": {},
   "outputs": [],
   "source": [
    "X_test.ticket_letters=X_test.ticket_letters.map( {'0': 0, 'pp': 1, 'scparis': 2,'ca':3, 'soc':4,'wc':5,'a5':6, 'sotonoq':7, 'pc':9,\n",
    "                                                    'a4':13, 'c':14 ,'aq3':15} ).astype(int)"
   ]
  },
  {
   "cell_type": "code",
   "execution_count": 349,
   "id": "7d59034a",
   "metadata": {},
   "outputs": [],
   "source": [
    "#data engineering:\n",
    "#replacng categorical values to numerical\n",
    "X_test.Title = X_test.Title.map( {'Master':0, 'Mrs':1, 'Miss':2, 'Mr':3} ).astype(int)"
   ]
  },
  {
   "cell_type": "code",
   "execution_count": 355,
   "id": "26448d09",
   "metadata": {},
   "outputs": [],
   "source": [
    "X_test.Sex=X_test.Sex.map( {'male': 0, 'female': 1} ).astype(int)"
   ]
  },
  {
   "cell_type": "code",
   "execution_count": 350,
   "id": "88ade6ed",
   "metadata": {},
   "outputs": [
    {
     "data": {
      "text/plain": [
       "Index(['Pclass', 'Sex', 'Age', 'SibSp', 'Parch', 'Fare', 'Embarked',\n",
       "       'numeric_ticket', 'ticket_letters', 'Title', 'FamilySize'],\n",
       "      dtype='object')"
      ]
     },
     "execution_count": 350,
     "metadata": {},
     "output_type": "execute_result"
    }
   ],
   "source": [
    "X_test.columns"
   ]
  },
  {
   "cell_type": "markdown",
   "id": "9a73dc61",
   "metadata": {},
   "source": [
    "### Train data and Data Engineering"
   ]
  },
  {
   "cell_type": "code",
   "execution_count": 495,
   "id": "5cf2409e",
   "metadata": {},
   "outputs": [
    {
     "data": {
      "text/plain": [
       "array(['Master', 'Mrs', 'Miss', 'Mr'], dtype=object)"
      ]
     },
     "execution_count": 495,
     "metadata": {},
     "output_type": "execute_result"
    }
   ],
   "source": [
    "trainCh[['FName','TLName']] = trainCh['Name'].str.split(\",\",1,expand=True,)\n",
    "trainCh[['Title','LName']] = trainCh['TLName'].str.split(\".\",1,expand=True,)\n",
    "trainCh=trainCh.apply(lambda x: x.str.strip() if x.dtype == \"object\" else x)\n",
    "trainCh.Title=trainCh.Title.map( {'Master':0, 'Mrs':1, 'Miss':2, 'Mr':3} ).astype(int)\n",
    "trainCh.Title.unique()"
   ]
  },
  {
   "cell_type": "code",
   "execution_count": 258,
   "id": "a0e4ee1f",
   "metadata": {},
   "outputs": [
    {
     "data": {
      "text/plain": [
       "array([ 0,  1,  2,  3,  4,  5,  6,  7,  9, 10, 11, 12, 13,  8],\n",
       "      dtype=int64)"
      ]
     },
     "execution_count": 258,
     "metadata": {},
     "output_type": "execute_result"
    }
   ],
   "source": [
    "trainCh['numeric_ticket'] = trainCh.Ticket.apply(lambda x: 1 if x.isnumeric() else 0)\n",
    "trainCh['ticket_letters'] = trainCh.Ticket.apply(lambda x: ''.join(x.split(' ')[:-1])\n",
    "                                            .replace('.','').replace('/','')\n",
    "                                            .lower() if len(x.split(' ')[:-1]) >0 else '0')\n",
    "trainCh.ticket_letters=trainCh.ticket_letters.map( {'0': 0, 'pp': 1, 'scparis': 2,'ca':3, 'soc':4, 'wc':5, 'a5':6, 'sotonoq':7,'sopp':8, 'pc':9,\n",
    "       'sc':10, 'stono2':11, 'fcc':12, 'a4':13, 'c':14 } ).astype(int)\n",
    "trainCh.ticket_letters.unique()"
   ]
  },
  {
   "cell_type": "code",
   "execution_count": 308,
   "id": "47d5aa19",
   "metadata": {},
   "outputs": [],
   "source": [
    "# defining X_train and y_train from trainCh dataset\n",
    "col = ['Pclass', 'Sex', 'Age', 'SibSp','Parch', 'Fare', 'Embarked', 'FamilySize','numeric_ticket','ticket_letters','Title']\n",
    "y_train = trainCh['Survived']\n",
    "X_train = trainCh[col]"
   ]
  },
  {
   "cell_type": "code",
   "execution_count": null,
   "id": "f0815fcb",
   "metadata": {},
   "outputs": [],
   "source": [
    "#data engineering:\n",
    "#replacng categorical values to numerical\n",
    "X_train.Embarked=X_train.Embarked.map( {'S': 0, 'C': 1, 'Q': 2} ).astype(int)\n",
    "X_train.Sex=X_train.Sex.map( {'male': 0, 'female': 1} ).astype(int)"
   ]
  },
  {
   "cell_type": "markdown",
   "id": "c9c49071",
   "metadata": {},
   "source": [
    "### analyzing new featurs\n"
   ]
  },
  {
   "cell_type": "code",
   "execution_count": 497,
   "id": "b7ec7821",
   "metadata": {},
   "outputs": [
    {
     "data": {
      "text/plain": [
       "<AxesSubplot:xlabel='ticket_letters', ylabel='count'>"
      ]
     },
     "execution_count": 497,
     "metadata": {},
     "output_type": "execute_result"
    },
    {
     "data": {
      "image/png": "[encoded data removed]",
      "text/plain": [
       "<Figure size 720x576 with 2 Axes>"
      ]
     },
     "metadata": {
      "needs_background": "light"
     },
     "output_type": "display_data"
    }
   ],
   "source": [
    "#plot new features\n",
    "fig= plt.figure(figsize=(10,8))\n",
    "axs=[fig.add_subplot(2,2,i) for i in range(1,3)]\n",
    "\n",
    "sns.histplot(ax = axs[0],data= trainCh,x= 'ticket_letters')\n",
    "sns.countplot(data= trainCh,x= 'ticket_letters',hue='Survived',palette =\"Set1\")"
   ]
  },
  {
   "cell_type": "code",
   "execution_count": 499,
   "id": "21215e2a",
   "metadata": {},
   "outputs": [
    {
     "data": {
      "text/plain": [
       "<AxesSubplot:xlabel='ticket_letters', ylabel='Age'>"
      ]
     },
     "execution_count": 499,
     "metadata": {},
     "output_type": "execute_result"
    },
    {
     "data": {
      "image/png": "[encoded data removed]",
      "text/plain": [
       "<Figure size 432x288 with 1 Axes>"
      ]
     },
     "metadata": {
      "needs_background": "light"
     },
     "output_type": "display_data"
    }
   ],
   "source": [
    "#box plot\n",
    "sns.boxplot(data= trainCh,x= 'ticket_letters',y='Age',palette =\"Set1\")"
   ]
  },
  {
   "cell_type": "code",
   "execution_count": 496,
   "id": "d5113ae4",
   "metadata": {},
   "outputs": [
    {
     "data": {
      "text/plain": [
       "<AxesSubplot:xlabel='Title', ylabel='count'>"
      ]
     },
     "execution_count": 496,
     "metadata": {},
     "output_type": "execute_result"
    },
    {
     "data": {
      "image/png": "[encoded data removed]",
      "text/plain": [
       "<Figure size 432x288 with 1 Axes>"
      ]
     },
     "metadata": {
      "needs_background": "light"
     },
     "output_type": "display_data"
    }
   ],
   "source": [
    "sns.countplot(data= trainCh,x= 'Title',hue='Survived',palette =\"Set1\")"
   ]
  },
  {
   "cell_type": "code",
   "execution_count": 498,
   "id": "f7fcf89a",
   "metadata": {},
   "outputs": [
    {
     "data": {
      "text/plain": [
       "<AxesSubplot:xlabel='Title', ylabel='Age'>"
      ]
     },
     "execution_count": 498,
     "metadata": {},
     "output_type": "execute_result"
    },
    {
     "data": {
      "image/png": "[encoded data removed]",
      "text/plain": [
       "<Figure size 432x288 with 1 Axes>"
      ]
     },
     "metadata": {
      "needs_background": "light"
     },
     "output_type": "display_data"
    }
   ],
   "source": [
    "#boxplot title and Age\n",
    "sns.boxplot(data= trainCh,x= 'Title',y='Age',palette =\"Set1\")"
   ]
  },
  {
   "cell_type": "code",
   "execution_count": null,
   "id": "776f0c6e",
   "metadata": {},
   "outputs": [],
   "source": []
  },
  {
   "cell_type": "code",
   "execution_count": null,
   "id": "e735a763",
   "metadata": {},
   "outputs": [],
   "source": []
  },
  {
   "cell_type": "markdown",
   "id": "8504b354",
   "metadata": {},
   "source": [
    "## Models"
   ]
  },
  {
   "cell_type": "code",
   "execution_count": 395,
   "id": "9a8cbbd8",
   "metadata": {},
   "outputs": [],
   "source": [
    "# train X_train and y_train to each model \n",
    "# print accuracy score of model pretiction for X_train and X_test\n",
    "def DT(col):\n",
    "    clf = DecisionTreeClassifier()\n",
    "    clf.fit(X_train[col], y_train)\n",
    "    y_pred= clf.predict(X_test[col])\n",
    "    acc_train = round(clf.score(X_train[col], y_train) * 100, 2)\n",
    "    print ('DT_train',acc_train)\n",
    "    print('DT_test',round(accuracy_score(y_test, y_pred)*100,2))\n",
    "    return clf\n",
    "\n",
    "#random Forest\n",
    "def RF(col):\n",
    "    clf = RandomForestClassifier(n_estimators=100)\n",
    "    clf.fit(X_train[col], y_train)\n",
    "    y_pred = clf.predict(X_test[col])\n",
    "    acc_train = round(clf.score(X_train[col], y_train) * 100, 2)\n",
    "    print ('RF_train',acc_train)\n",
    "    print('RF_test',round(accuracy_score(y_test, y_pred)*100,2))\n",
    "    return clf\n",
    "\n",
    "\n",
    "    \n",
    "#calling different function to print accuracy of each model\n",
    "#based on different set of features\n",
    "def print_accuracy(col):\n",
    "    DT(col)\n",
    "    RF(col)\n",
    "    \n"
   ]
  },
  {
   "cell_type": "code",
   "execution_count": null,
   "id": "cc5aabad",
   "metadata": {},
   "outputs": [],
   "source": []
  },
  {
   "cell_type": "code",
   "execution_count": null,
   "id": "75f49257",
   "metadata": {},
   "outputs": [],
   "source": []
  },
  {
   "cell_type": "code",
   "execution_count": 413,
   "id": "87e52f63",
   "metadata": {},
   "outputs": [
    {
     "name": "stdout",
     "output_type": "stream",
     "text": [
      "columns: ['Pclass', 'Sex', 'Age', 'SibSp', 'Parch', 'Fare', 'Embarked', 'FamilySize', 'numeric_ticket', 'ticket_letters', 'Title']\n",
      "DT_train 100.0\n",
      "DT_test 72.22\n",
      "RF_train 100.0\n",
      "RF_test 68.52\n",
      "\n",
      "columns: ['Pclass', 'Sex', 'Age', 'SibSp', 'Parch', 'Fare', 'Embarked', 'FamilySize', 'numeric_ticket', 'ticket_letters']\n",
      "DT_train 100.0\n",
      "DT_test 68.52\n",
      "RF_train 100.0\n",
      "RF_test 64.81\n",
      "\n",
      "columns: ['Pclass', 'Sex', 'Age', 'SibSp', 'Parch', 'Fare', 'Embarked', 'FamilySize', 'Title']\n",
      "DT_train 99.28\n",
      "DT_test 72.22\n",
      "RF_train 99.28\n",
      "RF_test 66.67\n",
      "\n",
      "columns: ['Pclass', 'Sex', 'Age', 'SibSp', 'Parch', 'Fare', 'Embarked', 'FamilySize']\n",
      "DT_train 99.28\n",
      "DT_test 68.52\n",
      "RF_train 99.28\n",
      "RF_test 64.81\n",
      "\n",
      "columns: ['Sex', 'Age', 'Pclass', 'FamilySize', 'SibSp']\n",
      "DT_train 95.68\n",
      "DT_test 64.81\n",
      "RF_train 95.68\n",
      "RF_test 68.52\n",
      "\n",
      "columns: ['Sex', 'Age', 'FamilySize', 'Embarked', 'Title']\n",
      "DT_train 94.24\n",
      "DT_test 68.52\n",
      "RF_train 94.24\n",
      "RF_test 72.22\n",
      "\n",
      "columns: ['Sex', 'Age', 'FamilySize', 'Embarked']\n",
      "DT_train 93.53\n",
      "DT_test 68.52\n",
      "RF_train 93.53\n",
      "RF_test 70.37\n",
      "\n"
     ]
    }
   ],
   "source": [
    "#print accuracy of train and test \n",
    "#based on different set of features to see if the featur engineering was a good idea or not\n",
    "col1 = ['Pclass', 'Sex','Age', 'SibSp','Parch','Fare','Embarked','FamilySize','numeric_ticket','ticket_letters','Title']\n",
    "col2 = ['Pclass', 'Sex','Age', 'SibSp','Parch','Fare','Embarked','FamilySize','numeric_ticket','ticket_letters']\n",
    "col3 = ['Pclass', 'Sex', 'Age', 'SibSp','Parch', 'Fare', 'Embarked', 'FamilySize','Title']\n",
    "col0 = ['Pclass', 'Sex', 'Age', 'SibSp','Parch', 'Fare', 'Embarked', 'FamilySize']\n",
    "col4 = [ 'Sex', 'Age', 'Pclass', 'FamilySize', 'SibSp']\n",
    "col5 = [ 'Sex', 'Age', 'FamilySize', 'Embarked','Title']\n",
    "col6 = [ 'Sex', 'Age', 'FamilySize', 'Embarked']\n",
    "for i in [col1,col2,col3,col0,col4,col5,col6]:\n",
    "    print('columns:',i)\n",
    "    print_accuracy(i)\n",
    "    print()\n",
    "    "
   ]
  },
  {
   "cell_type": "markdown",
   "id": "3a67df8e",
   "metadata": {},
   "source": [
    "### Feature importance"
   ]
  },
  {
   "cell_type": "code",
   "execution_count": 188,
   "id": "de39b1b7",
   "metadata": {},
   "outputs": [],
   "source": [
    "# Feature Importance\n",
    "# the role of each feature in a model and prediction \n",
    "def feature_importance(model, X_train):\n",
    " \n",
    "    col = pd.DataFrame({'importent': model.feature_importances_, 'column': X_train.columns})\n",
    "    col = col.sort_values(['importent', 'column'], ascending=[True, False]).iloc[-30:]\n",
    "    g=col.plot(kind='barh', x='column', y='importent', figsize=(5, 5),title='Best Model Importance of Features')\n",
    "    return col"
   ]
  },
  {
   "cell_type": "code",
   "execution_count": 414,
   "id": "4f2edeac",
   "metadata": {},
   "outputs": [
    {
     "name": "stdout",
     "output_type": "stream",
     "text": [
      "DT_train 100.0\n",
      "DT_test 72.22\n"
     ]
    },
    {
     "data": {
      "text/html": [
       "<div>\n",
       "<style scoped>\n",
       "    .dataframe tbody tr th:only-of-type {\n",
       "        vertical-align: middle;\n",
       "    }\n",
       "\n",
       "    .dataframe tbody tr th {\n",
       "        vertical-align: top;\n",
       "    }\n",
       "\n",
       "    .dataframe thead th {\n",
       "        text-align: right;\n",
       "    }\n",
       "</style>\n",
       "<table border=\"1\" class=\"dataframe\">\n",
       "  <thead>\n",
       "    <tr style=\"text-align: right;\">\n",
       "      <th></th>\n",
       "      <th>importent</th>\n",
       "      <th>column</th>\n",
       "    </tr>\n",
       "  </thead>\n",
       "  <tbody>\n",
       "    <tr>\n",
       "      <th>8</th>\n",
       "      <td>0.000000</td>\n",
       "      <td>numeric_ticket</td>\n",
       "    </tr>\n",
       "    <tr>\n",
       "      <th>1</th>\n",
       "      <td>0.000000</td>\n",
       "      <td>Sex</td>\n",
       "    </tr>\n",
       "    <tr>\n",
       "      <th>4</th>\n",
       "      <td>0.000000</td>\n",
       "      <td>Parch</td>\n",
       "    </tr>\n",
       "    <tr>\n",
       "      <th>7</th>\n",
       "      <td>0.000000</td>\n",
       "      <td>FamilySize</td>\n",
       "    </tr>\n",
       "    <tr>\n",
       "      <th>6</th>\n",
       "      <td>0.009250</td>\n",
       "      <td>Embarked</td>\n",
       "    </tr>\n",
       "    <tr>\n",
       "      <th>0</th>\n",
       "      <td>0.041217</td>\n",
       "      <td>Pclass</td>\n",
       "    </tr>\n",
       "    <tr>\n",
       "      <th>9</th>\n",
       "      <td>0.054171</td>\n",
       "      <td>ticket_letters</td>\n",
       "    </tr>\n",
       "    <tr>\n",
       "      <th>2</th>\n",
       "      <td>0.129939</td>\n",
       "      <td>Age</td>\n",
       "    </tr>\n",
       "    <tr>\n",
       "      <th>5</th>\n",
       "      <td>0.232057</td>\n",
       "      <td>Fare</td>\n",
       "    </tr>\n",
       "    <tr>\n",
       "      <th>10</th>\n",
       "      <td>0.235086</td>\n",
       "      <td>Title</td>\n",
       "    </tr>\n",
       "    <tr>\n",
       "      <th>3</th>\n",
       "      <td>0.298280</td>\n",
       "      <td>SibSp</td>\n",
       "    </tr>\n",
       "  </tbody>\n",
       "</table>\n",
       "</div>"
      ],
      "text/plain": [
       "    importent          column\n",
       "8    0.000000  numeric_ticket\n",
       "1    0.000000             Sex\n",
       "4    0.000000           Parch\n",
       "7    0.000000      FamilySize\n",
       "6    0.009250        Embarked\n",
       "0    0.041217          Pclass\n",
       "9    0.054171  ticket_letters\n",
       "2    0.129939             Age\n",
       "5    0.232057            Fare\n",
       "10   0.235086           Title\n",
       "3    0.298280           SibSp"
      ]
     },
     "execution_count": 414,
     "metadata": {},
     "output_type": "execute_result"
    },
    {
     "data": {
      "image/png": "[encoded data removed]",
      "text/plain": [
       "<Figure size 360x360 with 1 Axes>"
      ]
     },
     "metadata": {
      "needs_background": "light"
     },
     "output_type": "display_data"
    }
   ],
   "source": [
    "#after data enginnering and adding 3 new columns\n",
    "feature_importance(DT(col1), X_test[col1])"
   ]
  },
  {
   "cell_type": "code",
   "execution_count": 417,
   "id": "1c2d5fd1",
   "metadata": {},
   "outputs": [
    {
     "name": "stdout",
     "output_type": "stream",
     "text": [
      "DT_train 99.28\n",
      "DT_test 68.52\n"
     ]
    },
    {
     "data": {
      "text/html": [
       "<div>\n",
       "<style scoped>\n",
       "    .dataframe tbody tr th:only-of-type {\n",
       "        vertical-align: middle;\n",
       "    }\n",
       "\n",
       "    .dataframe tbody tr th {\n",
       "        vertical-align: top;\n",
       "    }\n",
       "\n",
       "    .dataframe thead th {\n",
       "        text-align: right;\n",
       "    }\n",
       "</style>\n",
       "<table border=\"1\" class=\"dataframe\">\n",
       "  <thead>\n",
       "    <tr style=\"text-align: right;\">\n",
       "      <th></th>\n",
       "      <th>importent</th>\n",
       "      <th>column</th>\n",
       "    </tr>\n",
       "  </thead>\n",
       "  <tbody>\n",
       "    <tr>\n",
       "      <th>3</th>\n",
       "      <td>0.000000</td>\n",
       "      <td>SibSp</td>\n",
       "    </tr>\n",
       "    <tr>\n",
       "      <th>4</th>\n",
       "      <td>0.004679</td>\n",
       "      <td>Parch</td>\n",
       "    </tr>\n",
       "    <tr>\n",
       "      <th>6</th>\n",
       "      <td>0.038236</td>\n",
       "      <td>Embarked</td>\n",
       "    </tr>\n",
       "    <tr>\n",
       "      <th>7</th>\n",
       "      <td>0.108984</td>\n",
       "      <td>FamilySize</td>\n",
       "    </tr>\n",
       "    <tr>\n",
       "      <th>1</th>\n",
       "      <td>0.109526</td>\n",
       "      <td>Sex</td>\n",
       "    </tr>\n",
       "    <tr>\n",
       "      <th>0</th>\n",
       "      <td>0.197252</td>\n",
       "      <td>Pclass</td>\n",
       "    </tr>\n",
       "    <tr>\n",
       "      <th>2</th>\n",
       "      <td>0.242921</td>\n",
       "      <td>Age</td>\n",
       "    </tr>\n",
       "    <tr>\n",
       "      <th>5</th>\n",
       "      <td>0.298400</td>\n",
       "      <td>Fare</td>\n",
       "    </tr>\n",
       "  </tbody>\n",
       "</table>\n",
       "</div>"
      ],
      "text/plain": [
       "   importent      column\n",
       "3   0.000000       SibSp\n",
       "4   0.004679       Parch\n",
       "6   0.038236    Embarked\n",
       "7   0.108984  FamilySize\n",
       "1   0.109526         Sex\n",
       "0   0.197252      Pclass\n",
       "2   0.242921         Age\n",
       "5   0.298400        Fare"
      ]
     },
     "execution_count": 417,
     "metadata": {},
     "output_type": "execute_result"
    },
    {
     "data": {
      "image/png": "[encoded data removed]",
      "text/plain": [
       "<Figure size 360x360 with 1 Axes>"
      ]
     },
     "metadata": {
      "needs_background": "light"
     },
     "output_type": "display_data"
    }
   ],
   "source": [
    "#before data engineering  \n",
    "feature_importance(DT(col0), X_test[col0])"
   ]
  },
  {
   "cell_type": "markdown",
   "id": "65a955fe",
   "metadata": {},
   "source": [
    "### Confusion Matrix"
   ]
  },
  {
   "cell_type": "code",
   "execution_count": 436,
   "id": "e0b0777d",
   "metadata": {},
   "outputs": [
    {
     "name": "stdout",
     "output_type": "stream",
     "text": [
      "RF_train 100.0\n",
      "RF_test 64.81\n"
     ]
    },
    {
     "data": {
      "image/png": "[encoded data removed]",
      "text/plain": [
       "<Figure size 432x288 with 2 Axes>"
      ]
     },
     "metadata": {
      "needs_background": "light"
     },
     "output_type": "display_data"
    }
   ],
   "source": [
    "def confusion(model,col):\n",
    "    #calling the model and fit x train with coresponding feature\n",
    "    clf = model(col)\n",
    "    y_pred = clf.predict(X_train[col])\n",
    "\n",
    "    # Compute confusion matrix\n",
    "    cnf_matrix = confusion_matrix(y_train, y_pred)\n",
    "\n",
    "    true_sur = ['True Survived', 'True Not Survived']\n",
    "    pre_sur = ['Predicted Survived', 'Predicted Not Survived']\n",
    "\n",
    "    df_cnf_matrix = pd.DataFrame(cnf_matrix, index = true_sur, columns = pre_sur)\n",
    "\n",
    "    sns.heatmap(df_cnf_matrix, annot=True, fmt='d')\n",
    "\n",
    "confusion(RF,col1)"
   ]
  },
  {
   "cell_type": "code",
   "execution_count": null,
   "id": "d851ee8f",
   "metadata": {},
   "outputs": [],
   "source": []
  }
 ],
 "metadata": {
  "kernelspec": {
   "display_name": "Python 3 (ipykernel)",
   "language": "python",
   "name": "python3"
  },
  "language_info": {
   "codemirror_mode": {
    "name": "ipython",
    "version": 3
   },
   "file_extension": ".py",
   "mimetype": "text/x-python",
   "name": "python",
   "nbconvert_exporter": "python",
   "pygments_lexer": "ipython3",
   "version": "3.9.7"
  }
 },
 "nbformat": 4,
 "nbformat_minor": 5
}
